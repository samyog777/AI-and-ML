{
 "cells": [
  {
   "cell_type": "code",
   "execution_count": 1,
   "metadata": {},
   "outputs": [
    {
     "name": "stdout",
     "output_type": "stream",
     "text": [
      "Hello, World!\n",
      "Python version: 3.12.6 (tags/v3.12.6:a4a2d2b, Sep  6 2024, 20:11:23) [MSC v.1940 64 bit (AMD64)]\n"
     ]
    }
   ],
   "source": [
    "import sys\n",
    "# Check Python version\n",
    "if sys.version_info.major == 3 and sys.version_info.minor >= 6:\n",
    "    print(\"Hello, World!\")\n",
    "    print(f\"Python version: {sys.version}\")\n",
    "else:\n",
    "    print(\"Please use Python 3.6 or higher.\")"
   ]
  },
  {
   "cell_type": "code",
   "execution_count": 2,
   "metadata": {},
   "outputs": [
    {
     "name": "stdout",
     "output_type": "stream",
     "text": [
      "Original List: [1, 2, 3]\n",
      "Modified List: [1, 2, 3, 4]\n",
      "Original Tuple: (1, 2, 3)\n"
     ]
    }
   ],
   "source": [
    "# Mutable Data Type Example (List)\n",
    "my_list = [1, 2, 3]\n",
    "print(\"Original List:\", my_list)\n",
    "# Modifying the list (changing contents)\n",
    "my_list.append(4)\n",
    "print(\"Modified List:\", my_list)\n",
    "# Immutable Data Type Example (Tuple)\n",
    "my_tuple = (1, 2, 3)\n",
    "print(\"Original Tuple:\", my_tuple)\n",
    " #Tryingtomodifythetuple(willraiseanerror)\n",
    "# my_tuple.append(4)#UncommentingthislinewillraiseanAttributeError"
   ]
  },
  {
   "cell_type": "code",
   "execution_count": 1,
   "metadata": {},
   "outputs": [
    {
     "name": "stdout",
     "output_type": "stream",
     "text": [
      "datatypeofvariableage= <class 'int'>\n",
      "datatypeofvariablepi= <class 'float'>\n",
      "datatypeofvariabletemperature= <class 'float'>\n"
     ]
    }
   ],
   "source": [
    "age= 23#int\n",
    "pi=3.14#float\n",
    "temperature=-5.5#float\n",
    "print(\"datatypeofvariableage=\",type(age))\n",
    "print(\"datatypeofvariablepi=\",type(pi))\n",
    "print(\"datatypeofvariabletemperature=\",type(temperature))"
   ]
  },
  {
   "cell_type": "code",
   "execution_count": 5,
   "metadata": {},
   "outputs": [
    {
     "name": "stdout",
     "output_type": "stream",
     "text": [
      "data type of the variable name =  <class 'str'>\n",
      "data type of the variable address =  <class 'str'>\n",
      "The first letter of the name is: A\n",
      "The last letter of the name is: e\n",
      "The second letter to the fourth of the name is: lic\n",
      "The first two letters of the name are: Al\n",
      "Substring starting from the third letter is: ice\n"
     ]
    }
   ],
   "source": [
    "name = \"Alice\"\n",
    "# greeting = ’Hello’\n",
    "address = \"123 Main St\"\n",
    "print(\"data type of the variable name = \",type(name))\n",
    "# print(\"data type of the variable greeting = \",type(greeting))\n",
    "print(\"data type of the variable address = \",type(address))\n",
    "# slice only one element\n",
    "print(\"The first letter of the name is:\", name[0])\n",
    "print(\"The last letter of the name is:\", name[-1])\n",
    "# slice a range of elements\n",
    "print(\"The second letter to the fourth of the name is:\", name[1:4])\n",
    "print(\"The first two letters of the name are:\", name[:2])\n",
    "print(\"Substring starting from the third letter is:\", name[2:])"
   ]
  },
  {
   "cell_type": "code",
   "execution_count": 7,
   "metadata": {},
   "outputs": [
    {
     "data": {
      "text/plain": [
       "['Sam', 'Hello', True]"
      ]
     },
     "execution_count": 7,
     "metadata": {},
     "output_type": "execute_result"
    }
   ],
   "source": [
    "list1 = [1, 2, 3, 4]\n",
    "mixed_list = [12, \"Hello\", True]\n",
    "# List is mutable\n",
    "mixed_list[0] = \"Sam\"\n",
    "mixed_list"
   ]
  },
  {
   "cell_type": "code",
   "execution_count": 9,
   "metadata": {},
   "outputs": [
    {
     "name": "stdout",
     "output_type": "stream",
     "text": [
      "First element: red\n",
      "Last two elements: ('yellow', 'blue')\n",
      "Middle two elements: ('green', 'yellow')\n"
     ]
    },
    {
     "data": {
      "text/plain": [
       "('red', 'green', 'yellow', 'blue')"
      ]
     },
     "execution_count": 9,
     "metadata": {},
     "output_type": "execute_result"
    }
   ],
   "source": [
    "colors = (\"red\", \"green\", \"yellow\", \"blue\")\n",
    "print(\"First element:\", colors[0])\n",
    "print(\"Last two elements:\", colors[2:])\n",
    "print(\"Middle two elements:\", colors[1:3])\n",
    "# colors[0] = \"purple\"\n",
    "colors # will generate an error as tuple is immutable."
   ]
  },
  {
   "cell_type": "code",
   "execution_count": 6,
   "metadata": {},
   "outputs": [
    {
     "name": "stdout",
     "output_type": "stream",
     "text": [
      "Hello my name is john, I am 25 years old and I live at Kathmandu.\n",
      "All Keys: dict_keys(['name', 'age', 'city'])\n",
      "All Values: ['john', 25, 'Kathmandu']\n"
     ]
    }
   ],
   "source": [
    "person = {'name': 'john', 'age': 25, 'city': \"Kathmandu\"}\n",
    "print(f\"Hello my name is {person['name']}, I am {person['age']} years old and I live at {person['city']}.\")\n",
    "print(\"All Keys:\", person.keys())\n",
    "print(\"All Values:\", list(person.values()))"
   ]
  },
  {
   "cell_type": "code",
   "execution_count": null,
   "metadata": {},
   "outputs": [
    {
     "name": "stdout",
     "output_type": "stream",
     "text": [
      "Positive Number\n"
     ]
    }
   ],
   "source": [
    "num = 10\n",
    "if num > 0:\n",
    "    print(\"Positive Number\")\n",
    "elif num == 0:\n",
    "    print(\"Zero\")\n",
    "else:\n",
    "    print(\"Negative Number\")"
   ]
  },
  {
   "cell_type": "code",
   "execution_count": 9,
   "metadata": {},
   "outputs": [
    {
     "name": "stdout",
     "output_type": "stream",
     "text": [
      "Both condition are true\n",
      "At least one condition is true\n",
      "X is not equal to 0\n"
     ]
    }
   ],
   "source": [
    "x = 5\n",
    "y = 10\n",
    "if x > 0 and y < 20:\n",
    "    print(\"Both condition are true\")\n",
    "if x > 0 or y > 20:\n",
    "    print(\"At least one condition is true\")\n",
    "if not x == 0:\n",
    "    print(\"X is not equal to 0\")\n"
   ]
  },
  {
   "cell_type": "code",
   "execution_count": 11,
   "metadata": {},
   "outputs": [
    {
     "name": "stdout",
     "output_type": "stream",
     "text": [
      "Either a or b is False\n",
      "At least one of a or b is True\n",
      "A is True\n"
     ]
    }
   ],
   "source": [
    "a = True\n",
    "b = False\n",
    "\n",
    "if a and b:\n",
    "    print(\"Both a and b are True\")\n",
    "else:\n",
    "    print(\"Either a or b is False\")\n",
    "\n",
    "if a or b:\n",
    "    print(\"At least one of a or b is True\")\n",
    "else:\n",
    "    print(\"Both a and b are False\")\n",
    "\n",
    "if not a:\n",
    "    print(\"A is False\")\n",
    "else:\n",
    "    print(\"A is True\")\n"
   ]
  },
  {
   "cell_type": "markdown",
   "metadata": {},
   "source": [
    "For Loop"
   ]
  },
  {
   "cell_type": "code",
   "execution_count": 12,
   "metadata": {},
   "outputs": [
    {
     "name": "stdout",
     "output_type": "stream",
     "text": [
      "Apple\n",
      "Banana\n",
      "Mango\n",
      "Orange\n"
     ]
    }
   ],
   "source": [
    "Fruits = [\"Apple\", \"Banana\", \"Mango\", \"Orange\"]\n",
    "\n",
    "for fruit in Fruits:\n",
    "    print(fruit)\n"
   ]
  },
  {
   "cell_type": "markdown",
   "metadata": {},
   "source": [
    "While Loop"
   ]
  },
  {
   "cell_type": "code",
   "execution_count": 13,
   "metadata": {},
   "outputs": [
    {
     "name": "stdout",
     "output_type": "stream",
     "text": [
      "Count is:  0\n",
      "Count is:  1\n",
      "Count is:  2\n",
      "Count is:  3\n",
      "Count is:  4\n"
     ]
    }
   ],
   "source": [
    "count = 0\n",
    "while count < 5:\n",
    "    print(\"Count is: \", count)\n",
    "    count += 1\n",
    "    "
   ]
  },
  {
   "cell_type": "markdown",
   "metadata": {},
   "source": [
    "Break"
   ]
  },
  {
   "cell_type": "code",
   "execution_count": 15,
   "metadata": {},
   "outputs": [
    {
     "name": "stdout",
     "output_type": "stream",
     "text": [
      "Loop -> 1\n",
      "Apple\n",
      "Banana\n",
      "Cherry\n",
      "Mango\n",
      "Loop -> 2\n",
      "Apple\n",
      "Banana\n",
      "Cherry\n",
      "Orange\n"
     ]
    }
   ],
   "source": [
    "Fruits = [\"Apple\", \"Banana\", \"Cherry\", \"Mango\", \"Orange\"]\n",
    "print(\"Loop -> 1\")\n",
    "for fruit in Fruits:\n",
    "    print(fruit)\n",
    "    if fruit == \"Mango\":\n",
    "        break\n",
    "\n",
    "print(\"Loop -> 2\")\n",
    "for fruit in Fruits:\n",
    "    if fruit == \"Mango\":\n",
    "        continue\n",
    "    else:\n",
    "        print(fruit)"
   ]
  },
  {
   "cell_type": "markdown",
   "metadata": {},
   "source": [
    "Function"
   ]
  },
  {
   "cell_type": "code",
   "execution_count": null,
   "metadata": {},
   "outputs": [
    {
     "name": "stdout",
     "output_type": "stream",
     "text": [
      "100\n",
      "111111\n"
     ]
    }
   ],
   "source": [
    "def add_binary(a,b):\n",
    "    binary_sum = bin(a+b)[2:]\n",
    "    return binary_sum\n",
    "\n",
    "print(add_binary(2,2))\n",
    "print(add_binary(51,12))"
   ]
  },
  {
   "cell_type": "markdown",
   "metadata": {},
   "source": [
    "Built-in Functions"
   ]
  },
  {
   "cell_type": "code",
   "execution_count": 19,
   "metadata": {},
   "outputs": [
    {
     "name": "stdout",
     "output_type": "stream",
     "text": [
      "Hello 12\n",
      "5\n",
      "<class 'str'>\n",
      "10\n"
     ]
    }
   ],
   "source": [
    "print(\"Hello 12\")\n",
    "length = len(\"Hello\")\n",
    "print(length)\n",
    "data_type = type(\"Hello\")\n",
    "print(data_type)\n",
    "total = sum([1,3,2,4])\n",
    "print(total)\n"
   ]
  },
  {
   "cell_type": "markdown",
   "metadata": {},
   "source": [
    "Built-in Methods"
   ]
  },
  {
   "cell_type": "code",
   "execution_count": 32,
   "metadata": {},
   "outputs": [
    {
     "name": "stdout",
     "output_type": "stream",
     "text": [
      "HELLO SAMYOG\n",
      "Original List: ['Dog', 'Cat', 'Lion', 'Tiger']\n",
      "Updated List: ['Dog', 'Cat', 'Lion', 'Tiger', 'Ant']\n",
      "Age: 20\n"
     ]
    }
   ],
   "source": [
    "message = \"Hello Samyog\"\n",
    "message_upper = message.upper()\n",
    "print(message_upper)\n",
    "\n",
    "Animals = [\"Dog\", \"Cat\", \"Lion\", \"Tiger\"]\n",
    "print(\"Original List:\", Animals)\n",
    "# Append function\n",
    "Animals.append(\"Ant\")\n",
    "print(\"Updated List:\", Animals)\n",
    "\n",
    "# Map\n",
    "info = {\"Name\": \"Sam\", \"Age\": 20}\n",
    "age = info.get(\"Age\")\n",
    "print(\"Age:\",age)"
   ]
  },
  {
   "cell_type": "markdown",
   "metadata": {},
   "source": [
    "User-Defined Function"
   ]
  },
  {
   "cell_type": "code",
   "execution_count": 35,
   "metadata": {},
   "outputs": [
    {
     "name": "stdout",
     "output_type": "stream",
     "text": [
      "Choose the conversation type:\n",
      "1. Celsius to fahrenheit\n",
      "2. Fahrenheit to Celsius\n",
      "37.0 C is equal to 98.6F\n"
     ]
    },
    {
     "data": {
      "text/plain": [
       "98.6"
      ]
     },
     "execution_count": 35,
     "metadata": {},
     "output_type": "execute_result"
    }
   ],
   "source": [
    "def hello123():\n",
    "    # print hello\n",
    "    print(\"Choose the conversation type:\")\n",
    "    print(\"1. Celsius to fahrenheit\")\n",
    "    print(\"2. Fahrenheit to Celsius\")\n",
    "    \n",
    "    choice = int(input(\"Enter 1 or 2:\"))\n",
    "    if choice == 1:\n",
    "        celsius = float(input(\"Enter temperature in Celsius: \"))\n",
    "        fahrenheit = (celsius * 9/5) + 32\n",
    "        print(f\"{celsius} C is equal to {fahrenheit}F\")\n",
    "        return fahrenheit\n",
    "    elif choice == \"2\":\n",
    "        fahrenheit = float(input(\"Enter Temperature in fahrenheit: \"))\n",
    "        celsius = (fahrenheit - 32) * 5/9\n",
    "        print(f\"{fahrenheit} F is equal to {celsius}C\")\n",
    "        return celsius\n",
    "    else:\n",
    "        print(\"invalid choice. Please enter 1 or 2.\")\n",
    "        return None\n",
    "    \n",
    "hello123()"
   ]
  },
  {
   "cell_type": "markdown",
   "metadata": {},
   "source": [
    "Global And Local Variables"
   ]
  },
  {
   "cell_type": "code",
   "execution_count": 40,
   "metadata": {},
   "outputs": [
    {
     "name": "stdout",
     "output_type": "stream",
     "text": [
      "10\n",
      "5\n"
     ]
    }
   ],
   "source": [
    "x = 10 # Global Variable\n",
    "def print_global():\n",
    "    print(x)\n",
    "\n",
    "print_global()\n",
    "\n",
    "def print_local():\n",
    "    s = 5\n",
    "    print(s)\n",
    "    \n",
    "print_local()\n",
    "# print(s)"
   ]
  },
  {
   "cell_type": "code",
   "execution_count": 46,
   "metadata": {},
   "outputs": [
    {
     "name": "stdout",
     "output_type": "stream",
     "text": [
      "10\n",
      "10\n"
     ]
    }
   ],
   "source": [
    "# Modify of Global Variable\n",
    "global_value = 30\n",
    "def modify_global():\n",
    "    global global_value\n",
    "    global_value = 10\n",
    "    print(global_value)\n",
    "\n",
    "modify_global()\n",
    "print(global_value)"
   ]
  },
  {
   "cell_type": "markdown",
   "metadata": {},
   "source": [
    "Exception Handling"
   ]
  },
  {
   "cell_type": "code",
   "execution_count": 57,
   "metadata": {},
   "outputs": [
    {
     "name": "stdout",
     "output_type": "stream",
     "text": [
      "Only Enter a number\n"
     ]
    }
   ],
   "source": [
    "try:\n",
    "    num = float(input(\"Enter a number:\"))\n",
    "    print(\"Result\", 10/num)\n",
    "except ZeroDivisionError:\n",
    "    print(\"Cannot Divide by Zero\")\n",
    "except ValueError:\n",
    "    print(\"Only Enter a number\")"
   ]
  },
  {
   "cell_type": "markdown",
   "metadata": {},
   "source": [
    "With Finally"
   ]
  },
  {
   "cell_type": "code",
   "execution_count": null,
   "metadata": {},
   "outputs": [],
   "source": [
    "try:\n",
    "    file = open(\"example.txt\", \"r\")\n",
    "    data = file.read()\n",
    "except:\n",
    "    print(\"File not found\")\n",
    "finally:\n",
    "    file.close()"
   ]
  },
  {
   "cell_type": "markdown",
   "metadata": {},
   "source": [
    "Raising Custom Exceptions"
   ]
  },
  {
   "cell_type": "code",
   "execution_count": 61,
   "metadata": {},
   "outputs": [
    {
     "name": "stdout",
     "output_type": "stream",
     "text": [
      "Valid AGE\n"
     ]
    }
   ],
   "source": [
    "def check_age(age):\n",
    "    if age < 0:\n",
    "        raise ValueError(\"Age cannot be negative\")\n",
    "    else:\n",
    "        print(\"Valid AGE\")\n",
    "\n",
    "try:\n",
    "    check_age(3)\n",
    "except ValueError as e:\n",
    "    print(e)"
   ]
  },
  {
   "cell_type": "markdown",
   "metadata": {},
   "source": [
    "Tasks"
   ]
  },
  {
   "cell_type": "code",
   "execution_count": 3,
   "metadata": {},
   "outputs": [
    {
     "name": "stdout",
     "output_type": "stream",
     "text": [
      "Cold:  [8.2, 7.9, 9.0, 8.5, 7.7, 8.4, 9.5, 8.1, 7.6, 8.0, 7.8, 8.7, 9.2, 8.3, 8.9, 7.8]\n",
      "Mild: [17.4, 18.0, 17.8, 16.5, 17.2, 16.7, 18.3, 17.9, 17.0, 16.8, 17.5, 17.1, 18.1, 16.4, 18.2, 16.6]\n",
      "Comfortable: [14.1, 13.5, 13.0, 12.9, 13.3, 14.0, 13.4, 14.2, 12.8, 13.7, 13.6, 13.8, 13.9, 12.7, 13.1, 12.5]\n",
      "Cold Count 16\n",
      "Mild Count 16\n",
      "Comfortable Count 16\n",
      "Count using built in function: 16\n",
      "Count using built in function: 16\n",
      "Count using built in function:  16\n"
     ]
    }
   ],
   "source": [
    "# Task 1\n",
    "temperatures = [8.2, 17.4, 14.1, 7.9, 18.0, 13.5, 9.0, 17.8, 13.0, 8.5,\n",
    "16.5, 12.9, 7.7, 17.2, 13.3, 8.4, 16.7, 14.0, 9.5, 18.3, 13.4, 8.1,\n",
    "17.9, 14.2, 7.6, 17.0, 12.8, 8.0, 16.8, 13.7, 7.8, 17.5, 13.6, 8.7,\n",
    "17.1, 13.8, 9.2, 18.1, 13.9, 8.3, 16.4, 12.7, 8.9, 18.2, 13.1, 7.8,\n",
    "16.6, 12.5]\n",
    "\n",
    "Cold = []\n",
    "cold_count = 0\n",
    "Mild = []\n",
    "mild_count = 0\n",
    "Comfortable = []\n",
    "comfortable_count = 0\n",
    "\n",
    "for temp in temperatures:\n",
    "    if (temp < 10):\n",
    "        cold_count = cold_count+1\n",
    "        Cold.append(temp)\n",
    "    elif (temp > 10 and temp > 15):\n",
    "        mild_count = mild_count+1\n",
    "        Mild.append(temp)\n",
    "    else:\n",
    "        comfortable_count = comfortable_count +1\n",
    "        Comfortable.append(temp)\n",
    "        \n",
    "print(\"Cold: \", Cold)\n",
    "print(\"Mild:\", Mild)\n",
    "print(\"Comfortable:\", Comfortable)\n",
    "\n",
    "# Task 2\n",
    "# Total number of value in each\n",
    "print(\"Cold Count\", cold_count)\n",
    "print(\"Mild Count\", mild_count)\n",
    "print(\"Comfortable Count\", comfortable_count)\n",
    "\n",
    "print(\"Count using built in function:\", len(Cold))\n",
    "print(\"Count using built in function:\", len(Mild))\n",
    "print(\"Count using built in function: \", len(Comfortable))"
   ]
  },
  {
   "cell_type": "code",
   "execution_count": 5,
   "metadata": {},
   "outputs": [
    {
     "name": "stdout",
     "output_type": "stream",
     "text": [
      "Fahrenheit List:  [46.76, 63.31999999999999, 57.379999999999995, 46.22, 64.4, 56.3, 48.2, 64.03999999999999, 55.400000000000006, 47.3, 61.7, 55.22, 45.86, 62.96, 55.94, 47.120000000000005, 62.06, 57.2, 49.1, 64.94, 56.120000000000005, 46.58, 64.22, 57.56, 45.68, 62.6, 55.040000000000006, 46.4, 62.24, 56.66, 46.04, 63.5, 56.480000000000004, 47.66, 62.78, 56.84, 48.56, 64.58000000000001, 57.019999999999996, 46.94, 61.519999999999996, 54.86, 48.019999999999996, 64.75999999999999, 55.58, 46.04, 61.88, 54.5]\n"
     ]
    }
   ],
   "source": [
    "# Task 3\n",
    "def convertCelToFahrenheit(celsius):\n",
    "    fahrenheit = celsius * (9/5) + 32\n",
    "    return fahrenheit\n",
    "\n",
    "fahrenheit_s = []\n",
    "\n",
    "for celsius in temperatures:\n",
    "    fah = convertCelToFahrenheit(celsius)\n",
    "    fahrenheit_s.append(fah)\n",
    "    \n",
    "print(\"Fahrenheit List: \", fahrenheit_s)\n",
    "    "
   ]
  },
  {
   "cell_type": "markdown",
   "metadata": {},
   "source": [
    "# To-do Task"
   ]
  },
  {
   "cell_type": "markdown",
   "metadata": {},
   "source": [
    "1. Task-1"
   ]
  },
  {
   "cell_type": "code",
   "execution_count": 6,
   "metadata": {},
   "outputs": [
    {
     "name": "stdout",
     "output_type": "stream",
     "text": [
      "400.0\n"
     ]
    }
   ],
   "source": [
    "def meter_to_feet(meter):\n",
    "    '''\n",
    "    This function converts the meter to feet by, \n",
    "    converting it first to inch then to feet.\n",
    "    \n",
    "    it has both print and return value incase i want to use return instead of print.\n",
    "    \n",
    "    it takes meter and convert to feet.\n",
    "    '''\n",
    "    centimeter = meter*100\n",
    "    inch = centimeter/2.5\n",
    "    feet = inch/12\n",
    "    print(feet)\n",
    "    return feet\n",
    "\n",
    "def feet_to_meter(feet):\n",
    "    '''\n",
    "    This function converts the feet to meter by,\n",
    "    converting feet ot inch to centimeter to finally meter\n",
    "    \n",
    "    it has both print and return value incase i want to use return instead of print.\n",
    " \n",
    "    It take feet as a parameter and converts it to meter\n",
    "    '''\n",
    "    inch = feet*12\n",
    "    centimeter = inch*2.5\n",
    "    print(centimeter/100)\n",
    "    return centimeter/100\n",
    "\n",
    "def kg_to_pound(kg):\n",
    "    '''\n",
    "    This function converts the kg to pound\n",
    "    it converts the kg to grams and then grams to kg\n",
    "    \n",
    "    it has both print and return value incase i want to use return instead of print.\n",
    "\n",
    "    It takes kg as a parameter and converts it to pound\n",
    "    '''\n",
    "    grams = kg*1000\n",
    "    print(grams/453.59237)\n",
    "    return grams/453.59237\n",
    "\n",
    "def pound_to_kg(pound):\n",
    "    '''\n",
    "    This function converts the pound to kg\n",
    "    it converts the pound to grams and then grams to pound\n",
    "    \n",
    "    it has both print and return value incase i want to use return instead of print.\n",
    "\n",
    "    It takes pound as a parameter and converts it to kg\n",
    "    '''\n",
    "    grams = pound * 453.59237\n",
    "    print(grams/1000)\n",
    "    return grams/1000\n",
    "\n",
    "def liters_to_gallons(liters):\n",
    "    '''\n",
    "    This function converts the liters to gallons\n",
    "    it converts the liters to gallons by dividing it by 3.78\n",
    "    \n",
    "    it has both print and return value incase i want to use return instead of print. \n",
    "    \n",
    "    It takes liters and returns gallons\n",
    "    '''\n",
    "    print(liters/3.78)\n",
    "    return liters/3.78\n",
    "\n",
    "def gallons_to_liters(gallons):\n",
    "    '''\n",
    "    This function converts the gallons to liters\n",
    "    It converts the gallons to liters by multiplying it by 3.78\n",
    "    \n",
    "    it has both print and return value incase i want to use return instead of print.\n",
    "    \n",
    "    It takes gallons and returns liters\n",
    "    '''\n",
    "    print(gallons*3.78)\n",
    "    return gallons*3.78\n",
    "\n",
    "def Length():\n",
    "    try:\n",
    "        nested_choice = int(input(\"Enter (1 to choose meter to feet), AND Enter (2 to choose feet to meter)\"))\n",
    "        if(nested_choice == 1):\n",
    "            try:\n",
    "                meter = float(input(\"Enter the length in meter: \"))\n",
    "                meter_to_feet(meter)\n",
    "            except ValueError as e:\n",
    "                print(\"Error: \", e)\n",
    "        elif(nested_choice == 2):\n",
    "            try:\n",
    "                feet = float(input(\"Enter the length in feet: \"))\n",
    "                feet_to_meter(feet)\n",
    "            except ValueError as e:\n",
    "                print(\"Error: \",e)\n",
    "        else:\n",
    "            print(\"Please select 1 or 2\")\n",
    "    except ValueError as e:\n",
    "        print(\"Error: \", e)\n",
    "\n",
    "def Width():\n",
    "    try:\n",
    "        nested_choice = int(input(\"Enter (1 to convert Kg to pound) AND (2 to convert pound to Kg)\"))\n",
    "        if(nested_choice == 1):\n",
    "            try:\n",
    "                kg = float(input(\"Enter the kg: \"))\n",
    "                kg_to_pound(kg)\n",
    "            except ValueError as e:\n",
    "                print(\"Error: \", e)\n",
    "        elif(nested_choice == 2):\n",
    "            try:\n",
    "                pound = float(input(\"Enter in pound: \"))\n",
    "                pound_to_kg(pound)\n",
    "            except ValueError as e:\n",
    "                print(\"Error: \", e)\n",
    "        else:\n",
    "            print(\"Please select 1 ro 2\")\n",
    "    except ValueError as e:\n",
    "        print(\"Error\", e)\n",
    "        \n",
    "def Volume():\n",
    "    try:\n",
    "        nested_choice = int(input(\"Enter (1 to convert liters to gallons) AND (2 to convert gallons to liters)\"))\n",
    "        if(nested_choice == 1):\n",
    "            try:\n",
    "                liters = float(input(\"Enter the volume in liters: \"))\n",
    "                liters_to_gallons(liters)\n",
    "            except ValueError as e:\n",
    "                print(\"Error: \", e)\n",
    "        elif(nested_choice == 2):\n",
    "            try:\n",
    "                gallons = float(input(\"Enter the volume in gallons: \"))\n",
    "                gallons_to_liters(gallons)\n",
    "            except ValueError as e:\n",
    "                print(\"Error: \", e)\n",
    "        else:\n",
    "            print(\"Enter the choice 1 or 2 only\")\n",
    "    except ValueError as e:\n",
    "        print(\"Error: \", e)\n",
    "\n",
    "def main():\n",
    "    try:\n",
    "        choice = int(input(\"Enter the choice (1 for Length) (2 for Width) and (3 for Volume): \"))\n",
    "        if(choice == 1):\n",
    "            Length()\n",
    "        elif(choice == 2):\n",
    "            Width()\n",
    "        elif(choice == 3):\n",
    "            Volume()\n",
    "        else:\n",
    "            print(\"Please Select the 1, 2 or 3\")\n",
    "    except ValueError as e:\n",
    "        print(\"Error: \", e)\n",
    "        \n",
    "main()\n"
   ]
  },
  {
   "cell_type": "markdown",
   "metadata": {},
   "source": [
    "# Task 2"
   ]
  },
  {
   "cell_type": "code",
   "execution_count": 7,
   "metadata": {},
   "outputs": [
    {
     "name": "stdout",
     "output_type": "stream",
     "text": [
      "Sum: 15\n"
     ]
    }
   ],
   "source": [
    "def find_sum(list):\n",
    "    '''\n",
    "    This function take the list as an argument and return its sum value\n",
    "    '''\n",
    "    sum = 0\n",
    "    for num in list:\n",
    "        sum = sum + num\n",
    "        \n",
    "    return sum\n",
    "\n",
    "def find_average(list):\n",
    "    '''\n",
    "    This function take the list as an argument and return its average value\n",
    "    '''\n",
    "    sum = sum(list)\n",
    "    average = sum/len(list)\n",
    "    return average\n",
    "\n",
    "def find_maximum(list):\n",
    "    '''\n",
    "    This function takes the list as an argument and return its maximum value\n",
    "    '''\n",
    "    max_value = list[0]\n",
    "    for num in list:\n",
    "        if num > max_value:\n",
    "            max_value = num\n",
    "    \n",
    "    return max_value\n",
    "\n",
    "def find_minimum(list):\n",
    "    '''\n",
    "    This function takes the list as an argument and return its minimum value\n",
    "    '''\n",
    "    min_value = list[0]\n",
    "    for num in list:\n",
    "        if(num < min_value):\n",
    "            min_value = num\n",
    "            \n",
    "    return min_value\n",
    "\n",
    "def take_list():\n",
    "    '''\n",
    "    This function takes the list from user with space between each number or member\n",
    "    '''\n",
    "    try:\n",
    "        list = input(\"Enter the lists with space between: \")\n",
    "        \n",
    "        if not list.strip():\n",
    "            print(\"Error: No value Entered\")\n",
    "            return None\n",
    "        \n",
    "        user_list = [int(num) for num in list.split()]\n",
    "        \n",
    "        if (len(user_list) == 0):\n",
    "            print(\"Error: The list is empty!\")\n",
    "            return 0\n",
    "        \n",
    "        return user_list        \n",
    "    except ValueError as e:\n",
    "        print(\"Error: \", e)\n",
    "    \n",
    "\n",
    "def user_choice():\n",
    "    '''\n",
    "    This function let user to choice between 1,2,3 and 4\n",
    "    '''\n",
    "    try:\n",
    "        choice = int(input(\"Enter the (1 to find sum), (2 to average), (3 to find maximum) and (4 to find minimum)\"))\n",
    "        if (choice == 1):\n",
    "            list = take_list()\n",
    "            sum = find_sum(list)\n",
    "            print(\"Sum:\", sum)\n",
    "        elif(choice == 2):\n",
    "            take_list()\n",
    "            average = find_average(list)\n",
    "            print(\"Average: \", average)\n",
    "        elif(choice == 3):\n",
    "            take_list()\n",
    "            maximum = find_maximum(list)\n",
    "            print(\"Maximum: \", maximum)\n",
    "        elif(choice == 4):\n",
    "            take_list()\n",
    "            minimum = find_minimum(list)\n",
    "            print(\"Minimum: \", minimum)\n",
    "        else:\n",
    "            print(\"Please choose: 1, 2, 3 and 4 only!\")\n",
    "    except ValueError as e:\n",
    "        print(\"Error: \", e)\n",
    "        \n",
    "user_choice()"
   ]
  },
  {
   "cell_type": "markdown",
   "metadata": {},
   "source": [
    "# 4.1\n",
    "\n",
    "Question 1: Extract Every Other Element"
   ]
  },
  {
   "cell_type": "code",
   "execution_count": 70,
   "metadata": {},
   "outputs": [
    {
     "name": "stdout",
     "output_type": "stream",
     "text": [
      "1\n",
      "3\n",
      "5\n"
     ]
    }
   ],
   "source": [
    "def extract_every_other(lst):\n",
    "    for i in range(0, len(lst), 2):\n",
    "        print(lst[i])\n",
    "\n",
    "list = [1, 2, 3, 4, 5, 6]\n",
    "extract_every_other(list)"
   ]
  },
  {
   "cell_type": "markdown",
   "metadata": {},
   "source": [
    "Question 2: Slice a Sublist"
   ]
  },
  {
   "cell_type": "code",
   "execution_count": 84,
   "metadata": {},
   "outputs": [
    {
     "name": "stdout",
     "output_type": "stream",
     "text": [
      "[3, 4, 5]\n"
     ]
    }
   ],
   "source": [
    "def get_sublist(lst, start, end):\n",
    "    new_list = []\n",
    "    for i in range(start, end+1, 1):        \n",
    "        new_list.append(lst[i])\n",
    "    return new_list\n",
    "\n",
    "user_input = [1, 2, 3, 4, 5, 6]\n",
    "new_list = get_sublist(user_input, 2,4)\n",
    "\n",
    "print(new_list)\n"
   ]
  },
  {
   "cell_type": "markdown",
   "metadata": {},
   "source": [
    "Question 3: Reverse a List Using Slicing"
   ]
  },
  {
   "cell_type": "code",
   "execution_count": 3,
   "metadata": {},
   "outputs": [
    {
     "name": "stdout",
     "output_type": "stream",
     "text": [
      "[5, 4, 3, 2, 1]\n"
     ]
    }
   ],
   "source": [
    "def reverse_list(lst):\n",
    "    return lst[::-1]\n",
    "\n",
    "# Example usage:\n",
    "input_list = [1, 2, 3, 4, 5]\n",
    "output_list = reverse_list(input_list)\n",
    "print(output_list)\n"
   ]
  },
  {
   "cell_type": "markdown",
   "metadata": {},
   "source": [
    "Question 4: Remove the First and Last Elements"
   ]
  },
  {
   "cell_type": "code",
   "execution_count": 11,
   "metadata": {},
   "outputs": [
    {
     "data": {
      "text/plain": [
       "[2, 3, 4]"
      ]
     },
     "execution_count": 11,
     "metadata": {},
     "output_type": "execute_result"
    }
   ],
   "source": [
    "def remove_first_last(lst):\n",
    "    new_list = []\n",
    "    for i in range(1, len(lst)-1):\n",
    "        new_list.append(lst[i])\n",
    "        \n",
    "    return new_list\n",
    "\n",
    "user_input = [1, 2, 3, 4, 5]\n",
    "remove_first_last(user_input)\n"
   ]
  },
  {
   "cell_type": "markdown",
   "metadata": {},
   "source": [
    "Question 6: Extract Elements from the End"
   ]
  },
  {
   "cell_type": "code",
   "execution_count": 6,
   "metadata": {},
   "outputs": [
    {
     "name": "stdout",
     "output_type": "stream",
     "text": [
      "[4, 5]\n"
     ]
    }
   ],
   "source": [
    "def get_last_n(lst, n):\n",
    "    new_list = []\n",
    "    lst = reverse_list(lst)\n",
    "    for i in range(n):\n",
    "        new_list.append(lst[i])\n",
    "    return reverse_list(new_list)\n",
    "\n",
    "user_input = [1, 2, 3, 4, 5]\n",
    "print(get_last_n(user_input, 2))"
   ]
  },
  {
   "cell_type": "markdown",
   "metadata": {},
   "source": [
    "Question 7: Extract Elements in Reverse Order"
   ]
  },
  {
   "cell_type": "code",
   "execution_count": 38,
   "metadata": {},
   "outputs": [
    {
     "data": {
      "text/plain": [
       "[5, 3, 1]"
      ]
     },
     "execution_count": 38,
     "metadata": {},
     "output_type": "execute_result"
    }
   ],
   "source": [
    "def reverse_skip(lst):\n",
    "    new_list = []\n",
    "    for i in range(len(lst)-2, -1, -2):\n",
    "        new_list.append(lst[i])\n",
    "    return new_list\n",
    "\n",
    "user_input =  [1, 2, 3, 4, 5, 6]\n",
    "\n",
    "reverse_skip(user_input)"
   ]
  },
  {
   "cell_type": "markdown",
   "metadata": {},
   "source": [
    "# 4.3"
   ]
  },
  {
   "cell_type": "markdown",
   "metadata": {},
   "source": [
    "Question 1: Flatten a Nested List"
   ]
  },
  {
   "cell_type": "code",
   "execution_count": 64,
   "metadata": {},
   "outputs": [
    {
     "name": "stdout",
     "output_type": "stream",
     "text": [
      "[1, 2, 3, 2, 4, 5, 3, 4, 5]\n"
     ]
    }
   ],
   "source": [
    "def flatten_extend(lst):\n",
    "     flat_list = []\n",
    "     for item in lst:\n",
    "        if isinstance(item, list):\n",
    "            flat_list.extend(flatten_extend(item))\n",
    "        else:\n",
    "            flat_list.append(item)\n",
    "\n",
    "     return flat_list\n",
    "\n",
    "user_input = [[1, 2], [3, [2 , [4,5], 3],  4], [5]]\n",
    "print(flatten_extend(user_input))"
   ]
  },
  {
   "cell_type": "markdown",
   "metadata": {},
   "source": [
    "Question 2: Accessing Nested List Elements"
   ]
  },
  {
   "cell_type": "code",
   "execution_count": 73,
   "metadata": {},
   "outputs": [
    {
     "name": "stdout",
     "output_type": "stream",
     "text": [
      "6\n"
     ]
    }
   ],
   "source": [
    "def access_nested_element(lst, indices):\n",
    "    for index in indices:\n",
    "        lst = lst[index]\n",
    "    return lst\n",
    "\n",
    "lst = [[1, 2, 3], [4, 5, 6], [7, 8, 9]]\n",
    "indics = [1,2]\n",
    "print(access_nested_element(lst, indics))"
   ]
  },
  {
   "cell_type": "markdown",
   "metadata": {},
   "source": [
    "Question 3: Sum of All Elements in a Nested List"
   ]
  },
  {
   "cell_type": "code",
   "execution_count": 86,
   "metadata": {},
   "outputs": [
    {
     "name": "stdout",
     "output_type": "stream",
     "text": [
      "21\n"
     ]
    }
   ],
   "source": [
    "def sum_nested(lst):\n",
    "    sum = 0\n",
    "    for item in lst:\n",
    "        if isinstance(item, list):\n",
    "            sum += sum_nested(item)\n",
    "        else:\n",
    "            sum += item\n",
    "    return sum\n",
    "\n",
    "user_input = [[1, 2], [3, [4, 5]], 6]\n",
    "print(sum_nested(user_input))"
   ]
  },
  {
   "cell_type": "markdown",
   "metadata": {},
   "source": [
    "Question 4: Remove Specific Element from a Nested List"
   ]
  },
  {
   "cell_type": "code",
   "execution_count": 100,
   "metadata": {},
   "outputs": [
    {
     "name": "stdout",
     "output_type": "stream",
     "text": [
      "[[1], [3], [4, 5]]\n"
     ]
    }
   ],
   "source": [
    "def remove_element(lst, elem):\n",
    "    for i in range(len(lst)):\n",
    "        lst[i] = [x for x in lst[i] if x != elem]\n",
    "    return lst\n",
    "\n",
    "lst = [[1, 2], [3, 2], [4, 5]]\n",
    "elem = 2\n",
    "result = remove_element(lst, elem)\n",
    "print(result)"
   ]
  },
  {
   "cell_type": "markdown",
   "metadata": {},
   "source": [
    "Question 5: Find the Maximum Element in a Nested List"
   ]
  },
  {
   "cell_type": "code",
   "execution_count": 4,
   "metadata": {},
   "outputs": [
    {
     "data": {
      "text/plain": [
       "6"
      ]
     },
     "execution_count": 4,
     "metadata": {},
     "output_type": "execute_result"
    }
   ],
   "source": [
    "def find_max(lst):\n",
    "    max_item = float('-inf')\n",
    "    for item in lst:\n",
    "        if (isinstance(item, list)):\n",
    "            max_item = max(max_item, find_max(item))\n",
    "        else:\n",
    "            max_item = max(max_item, item)\n",
    "    return max_item\n",
    "            \n",
    "user_input = [[1, 2], [3, [4, 5]], 6]\n",
    "find_max(user_input)"
   ]
  },
  {
   "cell_type": "markdown",
   "metadata": {},
   "source": [
    "Question 6: Count Occurrences of an Element in a Nested List"
   ]
  },
  {
   "cell_type": "code",
   "execution_count": 15,
   "metadata": {},
   "outputs": [
    {
     "name": "stdout",
     "output_type": "stream",
     "text": [
      "4\n"
     ]
    }
   ],
   "source": [
    "def count_occurrences(lst, elem):\n",
    "    count = 0\n",
    "    for item in lst:\n",
    "        if isinstance(item, list):\n",
    "            for i in item:\n",
    "                if i == elem:\n",
    "                    count +=1\n",
    "        else:\n",
    "            if item == elem:\n",
    "                count += 1\n",
    "    return count\n",
    "\n",
    "input_lst = [[1, 2], [2, 3], [2, 4], 2]\n",
    "elem = 2\n",
    "\n",
    "print(count_occurrences(input_lst, elem))"
   ]
  },
  {
   "cell_type": "markdown",
   "metadata": {},
   "source": [
    "Question 7: Flatten a List of Lists of Lists"
   ]
  },
  {
   "cell_type": "code",
   "execution_count": 22,
   "metadata": {},
   "outputs": [
    {
     "name": "stdout",
     "output_type": "stream",
     "text": [
      "[1, 2, 3, 4, 5, 6, 7, 8]\n"
     ]
    }
   ],
   "source": [
    "def deep_flatten(lst):\n",
    "    combine_list = []\n",
    "    for item in lst:\n",
    "        if isinstance(item, list):\n",
    "            combine_list.extend(deep_flatten(item))\n",
    "        else:\n",
    "            combine_list.append(item)\n",
    "    return combine_list\n",
    "\n",
    "user_input = [[[1, 2], [3, 4]], [[5, 6], [7, 8]]]\n",
    "\n",
    "print(deep_flatten(user_input))"
   ]
  },
  {
   "cell_type": "markdown",
   "metadata": {},
   "source": [
    "Question 8: Nested List Average"
   ]
  },
  {
   "cell_type": "code",
   "execution_count": null,
   "metadata": {},
   "outputs": [
    {
     "name": "stdout",
     "output_type": "stream",
     "text": [
      "3.5\n"
     ]
    }
   ],
   "source": [
    "def nested_average(lst):\n",
    "    sum = 0\n",
    "    count = 0\n",
    "    for item in lst:\n",
    "        if isinstance(item, list):\n",
    "            sub_sum, sub_count = nested_average(item)\n",
    "            sum += sub_sum\n",
    "            count += sub_count\n",
    "        else:\n",
    "            sum += item\n",
    "            count += 1\n",
    "    return sum, count\n",
    "\n",
    "def find_average(user_input):\n",
    "    sum, count = nested_average(user_input)    \n",
    "    return sum/count\n",
    "\n",
    "user_input = [[1, 2], [3, 4], [5, 6]]\n",
    "print(find_average(user_input))"
   ]
  },
  {
   "cell_type": "markdown",
   "metadata": {},
   "source": [
    "# NumPy"
   ]
  },
  {
   "cell_type": "code",
   "execution_count": 8,
   "metadata": {},
   "outputs": [
    {
     "name": "stdout",
     "output_type": "stream",
     "text": [
      " A zeros array is \n",
      " [[0. 0. 0.]\n",
      " [0. 0. 0.]] with dimensions (2, 3) \n",
      "\n"
     ]
    }
   ],
   "source": [
    "import numpy as np\n",
    "# initialize an all zero array with size 2 X 3:\n",
    "zeros_arr = np.zeros((2,3))\n",
    "print(\" A zeros array is \\n\", zeros_arr, \"with dimensions\", zeros_arr.shape, \"\\n\")\n"
   ]
  },
  {
   "cell_type": "code",
   "execution_count": 38,
   "metadata": {},
   "outputs": [
    {
     "name": "stdout",
     "output_type": "stream",
     "text": [
      "Array:\n",
      "5\n",
      "Dimension: 0\n",
      "Data type: int64\n",
      "\n",
      "Array:\n",
      "[1 2 3]\n",
      "Dimension: 1\n",
      "Data type: int64\n",
      "\n",
      "Array:\n",
      "[[1 2]\n",
      " [3 4]]\n",
      "Dimension: 2\n",
      "Data type: int64\n",
      "\n"
     ]
    }
   ],
   "source": [
    "import numpy as np\n",
    "# Create and display zero, one, and n-dimensional arrays\n",
    "zero_dim_array = np.array(5)\n",
    "one_dim_array = np.array([1, 2, 3])\n",
    "n_dim_array = np.array([[1, 2], [3, 4]])\n",
    "for arr in [zero_dim_array, one_dim_array, n_dim_array]:\n",
    "    print(f\"Array:\\n{arr}\\nDimension: {arr.ndim}\\nData type: {arr.dtype}\\n\")"
   ]
  },
  {
   "cell_type": "code",
   "execution_count": 39,
   "metadata": {},
   "outputs": [
    {
     "name": "stdout",
     "output_type": "stream",
     "text": [
      "Original Shape: (2, 3) \n",
      "Reshaped Shape: (3, 2)\n"
     ]
    }
   ],
   "source": [
    "import numpy as np\n",
    "# Create an array with shape (2, 3)\n",
    "array = np.array([[1, 2, 3],\n",
    "[4, 5, 6]])\n",
    "\n",
    "# Reshape to (3, 2), keeping 6 elements\n",
    "reshaped_array = array.reshape(3, 2)\n",
    "print(\"Original Shape:\", array.shape, \"\\nReshaped Shape:\", reshaped_array.shape)\n",
    "# Expected Outputs:\n",
    "# Original Shape: (2, 3)\n",
    "# Reshaped Shape: (3, 2)\n"
   ]
  },
  {
   "cell_type": "markdown",
   "metadata": {},
   "source": [
    "# Exercises"
   ]
  },
  {
   "cell_type": "markdown",
   "metadata": {},
   "source": [
    "Problem 1. Array Creation"
   ]
  },
  {
   "cell_type": "code",
   "execution_count": 1,
   "metadata": {},
   "outputs": [
    {
     "name": "stdout",
     "output_type": "stream",
     "text": [
      "Empty array (2x2):\n",
      " [[4.78656376e-315 0.00000000e+000]\n",
      " [4.74575602e-315 4.77539316e-315]]\n",
      "\n",
      "All ones array (4x2):\n",
      " [[1. 1.]\n",
      " [1. 1.]\n",
      " [1. 1.]\n",
      " [1. 1.]]\n",
      "\n",
      "Array filled with 7:\n",
      " [[7 7 7]\n",
      " [7 7 7]\n",
      " [7 7 7]]\n",
      "\n",
      "Array of zeros with the same shape as existing_array:\n",
      " [0 0 0 0]\n",
      "\n",
      "Array of ones with the same shape as existing_array:\n",
      " [1 1 1 1]\n",
      "\n",
      "Converted numpy array:\n",
      " [1 2 3 4]\n"
     ]
    }
   ],
   "source": [
    "import numpy as np\n",
    "\n",
    "# 1. Initialize an empty array with size 2x2\n",
    "empty_array = np.empty((2, 2))\n",
    "print(\"Empty array (2x2):\\n\", empty_array)\n",
    "\n",
    "# 2. Initialize an all one array with size 4x2\n",
    "ones_array = np.ones((4, 2))\n",
    "print(\"\\nAll ones array (4x2):\\n\", ones_array)\n",
    "\n",
    "# 3. Return a new array of given shape and type, filled with a fill value\n",
    "fill_value_array = np.full((3, 3), 7)  \n",
    "print(\"\\nArray filled with 7:\\n\", fill_value_array)\n",
    "\n",
    "# 4. Return a new array of zeros with the same shape and type as a given array\n",
    "existing_array = np.array([1, 2, 3, 4]) \n",
    "zeros_like_array = np.zeros_like(existing_array)\n",
    "print(\"\\nArray of zeros with the same shape as existing_array:\\n\", zeros_like_array)\n",
    "\n",
    "# 5. Return a new array of ones with the same shape and type as a given array\n",
    "ones_like_array = np.ones_like(existing_array)\n",
    "print(\"\\nArray of ones with the same shape as existing_array:\\n\", ones_like_array)\n",
    "\n",
    "# 6. For an existing list new_list = [1, 2, 3, 4], convert to a numpy array\n",
    "new_list = [1, 2, 3, 4]\n",
    "numpy_array = np.array(new_list)\n",
    "print(\"\\nConverted numpy array:\\n\", numpy_array)\n"
   ]
  },
  {
   "cell_type": "markdown",
   "metadata": {},
   "source": [
    "Problem 2. Array Manipulation: Numerical Ranges and Array indexing"
   ]
  },
  {
   "cell_type": "code",
   "execution_count": 7,
   "metadata": {},
   "outputs": [
    {
     "name": "stdout",
     "output_type": "stream",
     "text": [
      "Task 1: [10 11 12 13 14 15 16 17 18 19 20 21 22 23 24 25 26 27 28 29 30 31 32 33\n",
      " 34 35 36 37 38 39 40 41 42 43 44 45 46 47 48 49] \n",
      "\n",
      "Task 2:\n",
      " [[0 1 2]\n",
      " [3 4 5]\n",
      " [6 7 8]] \n",
      "\n",
      "Task 3:\n",
      " [[1. 0. 0.]\n",
      " [0. 1. 0.]\n",
      " [0. 0. 1.]]\n",
      "Task 4: Mean of array = 0.5256360842403772 \n",
      "\n",
      "Task 5: Min = 0.01662442509477402 Max = 0.9833657933221076 \n",
      "\n",
      "Task 6: [0. 0. 0. 0. 1. 0. 0. 0. 0. 0.] \n",
      "\n",
      "Task 7: [0 4 0 0 2 1] \n",
      "\n",
      "Task 8:\n",
      " [[1. 1. 1. 1. 1.]\n",
      " [1. 0. 0. 0. 1.]\n",
      " [1. 0. 0. 0. 1.]\n",
      " [1. 0. 0. 0. 1.]\n",
      " [1. 1. 1. 1. 1.]] \n",
      "\n",
      "Task 9:\n",
      " [[0 1 0 1 0 1 0 1]\n",
      " [1 0 1 0 1 0 1 0]\n",
      " [0 1 0 1 0 1 0 1]\n",
      " [1 0 1 0 1 0 1 0]\n",
      " [0 1 0 1 0 1 0 1]\n",
      " [1 0 1 0 1 0 1 0]\n",
      " [0 1 0 1 0 1 0 1]\n",
      " [1 0 1 0 1 0 1 0]] \n",
      "\n"
     ]
    }
   ],
   "source": [
    "import numpy as np\n",
    "\n",
    "# Task 1: Create an array with values ranging from 10 to 49\n",
    "arr_1 = np.arange(10, 50)\n",
    "print(\"Task 1:\", arr_1, \"\\n\")\n",
    "\n",
    "# Task 2: Create a 3X3 matrix with values ranging from 0 to 8\n",
    "arr_2 = np.arange(9).reshape(3, 3)\n",
    "print(\"Task 2:\\n\", arr_2, \"\\n\")\n",
    "\n",
    "# Task 3: Create a 3X3 identity matrix\n",
    "arr_3 = np.eye(3)\n",
    "print(\"Task 3:\\n\", arr_3)\n",
    "\n",
    "# Task 4: Create a random array of size 30 and find the mean\n",
    "arr_4 = np.random.random(30)\n",
    "mean_arr_4 = arr_4.mean()\n",
    "print(\"Task 4: Mean of array =\", mean_arr_4, \"\\n\")\n",
    "\n",
    "# Task 5: Create a 10X10 array with random values and find the minimum and maximum values\n",
    "arr_5 = np.random.random((10, 10))\n",
    "min_val = arr_5.min()\n",
    "max_val = arr_5.max()\n",
    "print(\"Task 5: Min =\", min_val, \"Max =\", max_val, \"\\n\")\n",
    "\n",
    "# Task 6: Create a zero array of size 10 and replace the 5th element with 1\n",
    "arr_6 = np.zeros(10)\n",
    "arr_6[4] = 1  # Index 4 is the 5th element (0-based index)\n",
    "print(\"Task 6:\", arr_6, \"\\n\")\n",
    "\n",
    "# Task 7: Reverse an array arr = [1, 2, 0, 0, 4, 0]\n",
    "arr_7 = np.array([1, 2, 0, 0, 4, 0])\n",
    "reversed_arr_7 = arr_7[::-1]\n",
    "print(\"Task 7:\", reversed_arr_7, \"\\n\")\n",
    "\n",
    "# Task 8: Create a 2D array with 1 on the border and 0 inside\n",
    "arr_8 = np.ones((5, 5))\n",
    "arr_8[1:-1, 1:-1] = 0\n",
    "print(\"Task 8:\\n\", arr_8, \"\\n\")\n",
    "\n",
    "# Task 9: Create a 8X8 matrix and fill it with a checkerboard pattern\n",
    "arr_9 = np.zeros((8, 8), dtype=int)\n",
    "arr_9[1::2, ::2] = 1\n",
    "arr_9[::2, 1::2] = 1\n",
    "print(\"Task 9:\\n\", arr_9, \"\\n\")\n"
   ]
  },
  {
   "cell_type": "markdown",
   "metadata": {},
   "source": [
    "Problem 3: Array Operations"
   ]
  },
  {
   "cell_type": "code",
   "execution_count": 13,
   "metadata": {},
   "outputs": [
    {
     "name": "stdout",
     "output_type": "stream",
     "text": [
      "Addition of x and y:\n",
      "[[ 6  8]\n",
      " [10 13]] \n",
      "\n",
      "Subtraction of x and y:\n",
      "[[-4 -4]\n",
      " [-4 -3]] \n",
      "\n",
      "Multiplication of x by 2:\n",
      "[[ 2  4]\n",
      " [ 6 10]]\n",
      "Multiplication of y by 2:\n",
      "[[10 12]\n",
      " [14 16]] \n",
      "\n",
      "Square of each element in x:\n",
      "[[ 1  4]\n",
      " [ 9 25]]\n",
      "Square of each element in y:\n",
      "[[25 36]\n",
      " [49 64]] \n",
      "\n",
      "Dot product of v and w: 219 \n",
      "\n",
      "Dot product of x and v: [29 77] \n",
      "\n",
      "Dot product of x and y: [[19 22]\n",
      " [50 58]] \n",
      "\n",
      "Concatenate x and y along rows:\n",
      "[[1 2]\n",
      " [3 5]\n",
      " [5 6]\n",
      " [7 8]] \n",
      "\n",
      "Concatenate v and w along columns:\n",
      "[[ 9 11]\n",
      " [10 12]] \n",
      "\n",
      "Error while concatenating x and v along rows: all the input arrays must have same number of dimensions, but the array at index 0 has 2 dimension(s) and the array at index 1 has 1 dimension(s)\n"
     ]
    }
   ],
   "source": [
    "import numpy as np\n",
    "\n",
    "x = np.array([[1, 2], [3, 5]])\n",
    "y = np.array([[5, 6], [7, 8]])\n",
    "v = np.array([9, 10])\n",
    "w = np.array([11, 12])\n",
    "\n",
    "# 1. Add the two arrays\n",
    "sum_xy = x + y\n",
    "print(\"Addition of x and y:\")\n",
    "print(sum_xy, \"\\n\")\n",
    "\n",
    "# 2. Subtract the two arrays\n",
    "subtract_xy = x - y\n",
    "print(\"Subtraction of x and y:\")\n",
    "print(subtract_xy, \"\\n\")\n",
    "\n",
    "# 3. Multiply the arrays with any integers of your choice\n",
    "multiply_x = x * 2\n",
    "multiply_y = y * 2\n",
    "print(\"Multiplication of x by 2:\")\n",
    "print(multiply_x)\n",
    "print(\"Multiplication of y by 2:\")\n",
    "print(multiply_y, \"\\n\")\n",
    "\n",
    "# 4. Find the square of each element of the array\n",
    "square_x = np.square(x)\n",
    "square_y = np.square(y)\n",
    "print(\"Square of each element in x:\")\n",
    "print(square_x)\n",
    "print(\"Square of each element in y:\")\n",
    "print(square_y, \"\\n\")\n",
    "\n",
    "# 5. Dot product between v and w, x and v, x and y\n",
    "dot_v_w = np.dot(v, w)\n",
    "dot_x_v = np.dot(x, v)\n",
    "dot_x_y = np.dot(x, y)\n",
    "\n",
    "print(\"Dot product of v and w:\", dot_v_w, \"\\n\")\n",
    "print(\"Dot product of x and v:\", dot_x_v, \"\\n\")\n",
    "print(\"Dot product of x and y:\", dot_x_y, \"\\n\")\n",
    "\n",
    "# 6. Concatenate x and y along rows and v and w along columns\n",
    "concat_xy_rows = np.concatenate((x, y), axis=0)\n",
    "print(\"Concatenate x and y along rows:\")\n",
    "print(concat_xy_rows, \"\\n\")\n",
    "\n",
    "concat_vw_cols = np.concatenate((v.reshape(-1, 1), w.reshape(-1, 1)), axis=1)\n",
    "print(\"Concatenate v and w along columns:\")\n",
    "print(concat_vw_cols, \"\\n\")\n",
    "\n",
    "# 7. Concatenate x and v (Error case)\n",
    "try:\n",
    "    concat_x_v = np.concatenate((x, v), axis=0)\n",
    "except ValueError as e:\n",
    "    print(\"Error while concatenating x and v along rows:\", e)\n"
   ]
  },
  {
   "cell_type": "markdown",
   "metadata": {},
   "source": [
    "Problem 4: Matrix Operations"
   ]
  },
  {
   "cell_type": "code",
   "execution_count": 14,
   "metadata": {},
   "outputs": [
    {
     "name": "stdout",
     "output_type": "stream",
     "text": [
      "A * A_inv =\n",
      " [[1.00000000e+00 0.00000000e+00]\n",
      " [1.77635684e-15 1.00000000e+00]]\n",
      "AB =\n",
      " [[23 13]\n",
      " [51 29]]\n",
      "BA =\n",
      " [[36 44]\n",
      " [13 16]]\n",
      "Is AB equal to BA? False\n",
      "(AB)^T =\n",
      " [[23 51]\n",
      " [13 29]]\n",
      "B^T A^T =\n",
      " [[23 51]\n",
      " [13 29]]\n",
      "Is (AB)^T equal to B^T A^T? True\n"
     ]
    }
   ],
   "source": [
    "import numpy as np\n",
    "\n",
    "# Given matrices\n",
    "A = np.array([[3, 4], [7, 8]])\n",
    "B = np.array([[5, 3], [2, 1]])\n",
    "\n",
    "# 1. Prove A * A_inv = I\n",
    "A_inv = np.linalg.inv(A)\n",
    "result = np.dot(A, A_inv)\n",
    "print(\"A * A_inv =\\n\", result)\n",
    "\n",
    "# 2. Prove AB != BA\n",
    "AB = np.dot(A, B)\n",
    "BA = np.dot(B, A)\n",
    "print(\"AB =\\n\", AB)\n",
    "print(\"BA =\\n\", BA)\n",
    "print(\"Is AB equal to BA?\", np.array_equal(AB, BA))\n",
    "\n",
    "# 3. Prove (AB)^T = B^T * A^T\n",
    "AB_T = np.transpose(np.dot(A, B))\n",
    "B_T_A_T = np.dot(np.transpose(B), np.transpose(A))\n",
    "print(\"(AB)^T =\\n\", AB_T)\n",
    "print(\"B^T A^T =\\n\", B_T_A_T)\n",
    "print(\"Is (AB)^T equal to B^T A^T?\", np.array_equal(AB_T, B_T_A_T))\n"
   ]
  },
  {
   "cell_type": "markdown",
   "metadata": {},
   "source": [
    "Solve the following system of Linear equation using Inverse Methods.\n",
    "\n",
    "2x − 3y + z = −1\n",
    "\n",
    "x − y + 2z = −3\n",
    "\n",
    "3x + y − z = 9"
   ]
  },
  {
   "cell_type": "code",
   "execution_count": null,
   "metadata": {},
   "outputs": [
    {
     "name": "stdout",
     "output_type": "stream",
     "text": [
      "Solution (x, y, z) =  [ 2.  1. -2.]\n"
     ]
    }
   ],
   "source": [
    "import numpy as np\n",
    "\n",
    "A = np.array([[2, -3, 1],\n",
    "              [1, -1, 2],\n",
    "              [3, 1, -1]])\n",
    "\n",
    "B = np.array([-1, -3, 9])\n",
    "\n",
    "A_inv = np.linalg.inv(A)\n",
    "\n",
    "X = np.dot(A_inv, B)\n",
    "\n",
    "print(\"Solution (x, y, z) = \", X)\n"
   ]
  },
  {
   "cell_type": "markdown",
   "metadata": {},
   "source": [
    "Now: solve the above equation using np.linalg.inv function.{Explore more about ”linalg” func-\n",
    "tion of Numpy}"
   ]
  },
  {
   "cell_type": "code",
   "execution_count": null,
   "metadata": {},
   "outputs": [
    {
     "name": "stdout",
     "output_type": "stream",
     "text": [
      "Solution (x, y, z) =  [ 2.  1. -2.]\n"
     ]
    }
   ],
   "source": [
    "import numpy as np\n",
    "\n",
    "A = np.array([[2, -3, 1],\n",
    "              [1, -1, 2],\n",
    "              [3, 1, -1]])\n",
    "\n",
    "B = np.array([-1, -3, 9])\n",
    "\n",
    "A_inv = np.linalg.inv(A)\n",
    "\n",
    "X = np.dot(A_inv, B)\n",
    "\n",
    "# Print the solution for x, y, and z\n",
    "print(\"Solution (x, y, z) = \", X)"
   ]
  },
  {
   "cell_type": "markdown",
   "metadata": {},
   "source": [
    "# Compare plain python list with numpy list's operation"
   ]
  },
  {
   "cell_type": "markdown",
   "metadata": {},
   "source": [
    "1. Element-wise Addition"
   ]
  },
  {
   "cell_type": "code",
   "execution_count": 17,
   "metadata": {},
   "outputs": [
    {
     "name": "stdout",
     "output_type": "stream",
     "text": [
      "Time taken for element-wise addition using Python lists: 0.255867 seconds\n"
     ]
    }
   ],
   "source": [
    "import time\n",
    "\n",
    "# Create two lists of size 1,000,000\n",
    "list1 = [i for i in range(1000000)]\n",
    "list2 = [i for i in range(1000000)]\n",
    "\n",
    "# Measure time for element-wise addition using Python lists\n",
    "start_time = time.time()\n",
    "\n",
    "result_list = [list1[i] + list2[i] for i in range(1000000)]\n",
    "\n",
    "end_time = time.time()\n",
    "print(f\"Time taken for element-wise addition using Python lists: {end_time - start_time:.6f} seconds\")\n"
   ]
  },
  {
   "cell_type": "code",
   "execution_count": 18,
   "metadata": {},
   "outputs": [
    {
     "name": "stdout",
     "output_type": "stream",
     "text": [
      "Time taken for element-wise addition using NumPy arrays: 0.012071 seconds\n"
     ]
    }
   ],
   "source": [
    "import numpy as np\n",
    "import time\n",
    "\n",
    "# Create two NumPy arrays of size 1,000,000\n",
    "array1 = np.arange(1000000)\n",
    "array2 = np.arange(1000000)\n",
    "\n",
    "# Measure time for element-wise addition using NumPy arrays\n",
    "start_time = time.time()\n",
    "\n",
    "result_array = array1 + array2\n",
    "\n",
    "end_time = time.time()\n",
    "print(f\"Time taken for element-wise addition using NumPy arrays: {end_time - start_time:.6f} seconds\")\n"
   ]
  },
  {
   "cell_type": "markdown",
   "metadata": {},
   "source": [
    "so, the total time taken using plain python is 0.255 second while numPy take 0.012 second."
   ]
  },
  {
   "cell_type": "markdown",
   "metadata": {},
   "source": [
    "2. Element-wise Multiplication"
   ]
  },
  {
   "cell_type": "code",
   "execution_count": 19,
   "metadata": {},
   "outputs": [
    {
     "name": "stdout",
     "output_type": "stream",
     "text": [
      "Time taken with Python lists: 0.29633092880249023 seconds\n",
      "Time taken with Numpy arrays: 0.01678180694580078 seconds\n"
     ]
    }
   ],
   "source": [
    "import time\n",
    "import numpy as np\n",
    "\n",
    "# Create two lists of size 1,000,000 with random numbers\n",
    "list1 = [i for i in range(1, 1000001)]\n",
    "list2 = [i for i in range(1, 1000001)]\n",
    "\n",
    "# Measure the time taken for element-wise multiplication using Python lists\n",
    "start_time = time.time()\n",
    "result_list = [a * b for a, b in zip(list1, list2)]\n",
    "list_time = time.time() - start_time\n",
    "\n",
    "# Using Numpy arrays for the same operation\n",
    "array1 = np.array(list1)\n",
    "array2 = np.array(list2)\n",
    "\n",
    "# Measure the time taken for element-wise multiplication using Numpy arrays\n",
    "start_time = time.time()\n",
    "result_array = array1 * array2\n",
    "array_time = time.time() - start_time\n",
    "\n",
    "print(f\"Time taken with Python lists: {list_time} seconds\")\n",
    "print(f\"Time taken with Numpy arrays: {array_time} seconds\")\n"
   ]
  },
  {
   "cell_type": "markdown",
   "metadata": {},
   "source": [
    "so, numpy takes less (0.016) time then python plain list (0.296) operation "
   ]
  },
  {
   "cell_type": "markdown",
   "metadata": {},
   "source": [
    "3. Dot Product"
   ]
  },
  {
   "cell_type": "code",
   "execution_count": 1,
   "metadata": {},
   "outputs": [
    {
     "name": "stdout",
     "output_type": "stream",
     "text": [
      "Time taken using Python lists: 0.0948789119720459 seconds\n",
      "Time taken using NumPy arrays: 0.0009639263153076172 seconds\n"
     ]
    }
   ],
   "source": [
    "import time\n",
    "import numpy as np\n",
    "\n",
    "# Using Python Lists\n",
    "list1 = [i for i in range(1, 1000001)]\n",
    "list2 = [i for i in range(1, 1000001)]\n",
    "\n",
    "start_time = time.time()\n",
    "dot_product_list = sum(list1[i] * list2[i] for i in range(1000000))\n",
    "end_time = time.time()\n",
    "print(f\"Time taken using Python lists: {end_time - start_time} seconds\")\n",
    "\n",
    "# Using Numpy Arrays\n",
    "array1 = np.arange(1, 1000001)\n",
    "array2 = np.arange(1, 1000001)\n",
    "\n",
    "start_time = time.time()\n",
    "dot_product_numpy = np.dot(array1, array2)\n",
    "end_time = time.time()\n",
    "print(f\"Time taken using NumPy arrays: {end_time - start_time} seconds\")\n"
   ]
  },
  {
   "cell_type": "markdown",
   "metadata": {},
   "source": [
    "so, the numpy is ahead in dot product too, numpy (0.0026) second and python list (0.357) second"
   ]
  },
  {
   "cell_type": "markdown",
   "metadata": {},
   "source": [
    "4. Matrix Multiplication"
   ]
  },
  {
   "cell_type": "code",
   "execution_count": 2,
   "metadata": {},
   "outputs": [
    {
     "ename": "KeyboardInterrupt",
     "evalue": "",
     "output_type": "error",
     "traceback": [
      "\u001b[31m---------------------------------------------------------------------------\u001b[39m",
      "\u001b[31mKeyboardInterrupt\u001b[39m                         Traceback (most recent call last)",
      "\u001b[36mCell\u001b[39m\u001b[36m \u001b[39m\u001b[32mIn[2]\u001b[39m\u001b[32m, line 21\u001b[39m\n\u001b[32m     19\u001b[39m \u001b[38;5;66;03m# Measure the time for matrix multiplication using Python lists\u001b[39;00m\n\u001b[32m     20\u001b[39m start_time = time.time()\n\u001b[32m---> \u001b[39m\u001b[32m21\u001b[39m result_lists = \u001b[43mmatrix_multiply_lists\u001b[49m\u001b[43m(\u001b[49m\u001b[43mmatrix1\u001b[49m\u001b[43m,\u001b[49m\u001b[43m \u001b[49m\u001b[43mmatrix2\u001b[49m\u001b[43m)\u001b[49m\n\u001b[32m     22\u001b[39m end_time = time.time()\n\u001b[32m     23\u001b[39m time_lists = end_time - start_time\n",
      "\u001b[36mCell\u001b[39m\u001b[36m \u001b[39m\u001b[32mIn[2]\u001b[39m\u001b[32m, line 16\u001b[39m, in \u001b[36mmatrix_multiply_lists\u001b[39m\u001b[34m(A, B)\u001b[39m\n\u001b[32m     14\u001b[39m \u001b[38;5;28;01mfor\u001b[39;00m i \u001b[38;5;129;01min\u001b[39;00m \u001b[38;5;28mrange\u001b[39m(size):\n\u001b[32m     15\u001b[39m     \u001b[38;5;28;01mfor\u001b[39;00m j \u001b[38;5;129;01min\u001b[39;00m \u001b[38;5;28mrange\u001b[39m(size):\n\u001b[32m---> \u001b[39m\u001b[32m16\u001b[39m         result[i][j] = \u001b[38;5;28;43msum\u001b[39;49m\u001b[43m(\u001b[49m\u001b[43mA\u001b[49m\u001b[43m[\u001b[49m\u001b[43mi\u001b[49m\u001b[43m]\u001b[49m\u001b[43m[\u001b[49m\u001b[43mk\u001b[49m\u001b[43m]\u001b[49m\u001b[43m \u001b[49m\u001b[43m*\u001b[49m\u001b[43m \u001b[49m\u001b[43mB\u001b[49m\u001b[43m[\u001b[49m\u001b[43mk\u001b[49m\u001b[43m]\u001b[49m\u001b[43m[\u001b[49m\u001b[43mj\u001b[49m\u001b[43m]\u001b[49m\u001b[43m \u001b[49m\u001b[38;5;28;43;01mfor\u001b[39;49;00m\u001b[43m \u001b[49m\u001b[43mk\u001b[49m\u001b[43m \u001b[49m\u001b[38;5;129;43;01min\u001b[39;49;00m\u001b[43m \u001b[49m\u001b[38;5;28;43mrange\u001b[39;49m\u001b[43m(\u001b[49m\u001b[43msize\u001b[49m\u001b[43m)\u001b[49m\u001b[43m)\u001b[49m\n\u001b[32m     17\u001b[39m \u001b[38;5;28;01mreturn\u001b[39;00m result\n",
      "\u001b[36mCell\u001b[39m\u001b[36m \u001b[39m\u001b[32mIn[2]\u001b[39m\u001b[32m, line 16\u001b[39m, in \u001b[36m<genexpr>\u001b[39m\u001b[34m(.0)\u001b[39m\n\u001b[32m     14\u001b[39m \u001b[38;5;28;01mfor\u001b[39;00m i \u001b[38;5;129;01min\u001b[39;00m \u001b[38;5;28mrange\u001b[39m(size):\n\u001b[32m     15\u001b[39m     \u001b[38;5;28;01mfor\u001b[39;00m j \u001b[38;5;129;01min\u001b[39;00m \u001b[38;5;28mrange\u001b[39m(size):\n\u001b[32m---> \u001b[39m\u001b[32m16\u001b[39m         result[i][j] = \u001b[38;5;28msum\u001b[39m(A[i][k] * B[k][j] \u001b[38;5;28;01mfor\u001b[39;00m k \u001b[38;5;129;01min\u001b[39;00m \u001b[38;5;28mrange\u001b[39m(size))\n\u001b[32m     17\u001b[39m \u001b[38;5;28;01mreturn\u001b[39;00m result\n",
      "\u001b[31mKeyboardInterrupt\u001b[39m: "
     ]
    }
   ],
   "source": [
    "import time\n",
    "import numpy as np\n",
    "\n",
    "# Matrix multiplication using Python lists\n",
    "\n",
    "# Generate two 1000x1000 matrices with random values\n",
    "matrix1 = [[1] * 1000 for _ in range(1000)]\n",
    "matrix2 = [[1] * 1000 for _ in range(1000)]\n",
    "\n",
    "# Function to multiply matrices using Python lists\n",
    "def matrix_multiply_lists(A, B):\n",
    "    size = len(A)\n",
    "    result = [[0] * size for _ in range(size)]  # Resultant matrix\n",
    "    for i in range(size):\n",
    "        for j in range(size):\n",
    "            result[i][j] = sum(A[i][k] * B[k][j] for k in range(size))\n",
    "    return result\n",
    "\n",
    "# Measure the time for matrix multiplication using Python lists\n",
    "start_time = time.time()\n",
    "result_lists = matrix_multiply_lists(matrix1, matrix2)\n",
    "end_time = time.time()\n",
    "time_lists = end_time - start_time\n",
    "print(f\"Time taken for matrix multiplication using Python lists: {time_lists:.5f} seconds\")\n",
    "\n",
    "\n",
    "# Matrix multiplication using NumPy\n",
    "\n",
    "# Generate two 1000x1000 matrices with random values using NumPy\n",
    "matrix1_np = np.ones((1000, 1000))\n",
    "matrix2_np = np.ones((1000, 1000))\n",
    "\n",
    "# Measure the time for matrix multiplication using NumPy\n",
    "start_time = time.time()\n",
    "result_np = np.dot(matrix1_np, matrix2_np)  # Alternatively, use matrix1_np @ matrix2_np\n",
    "end_time = time.time()\n",
    "time_np = end_time - start_time\n",
    "print(f\"Time taken for matrix multiplication using NumPy: {time_np:.5f} seconds\")\n"
   ]
  },
  {
   "cell_type": "markdown",
   "metadata": {},
   "source": [
    "Huge difference between numpy and plain python list for multiplying matrix. \n",
    "\n",
    "Plain python matrix multiplication => 113.43 seconds\n",
    "\n",
    "numpy python matrix multiplication => 0.072 second"
   ]
  }
 ],
 "metadata": {
  "kernelspec": {
   "display_name": "jupyter_env",
   "language": "python",
   "name": "python3"
  },
  "language_info": {
   "codemirror_mode": {
    "name": "ipython",
    "version": 3
   },
   "file_extension": ".py",
   "mimetype": "text/x-python",
   "name": "python",
   "nbconvert_exporter": "python",
   "pygments_lexer": "ipython3",
   "version": "3.12.3"
  }
 },
 "nbformat": 4,
 "nbformat_minor": 2
}
